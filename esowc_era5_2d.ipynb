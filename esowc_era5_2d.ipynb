{
  "nbformat": 4,
  "nbformat_minor": 0,
  "metadata": {
    "colab": {
      "name": "esowc_era5_2d.ipynb",
      "provenance": [],
      "collapsed_sections": [
        "qxl-BlCtYezs"
      ]
    },
    "kernelspec": {
      "name": "python3",
      "display_name": "Python 3"
    },
    "language_info": {
      "name": "python"
    }
  },
  "cells": [
    {
      "cell_type": "code",
      "metadata": {
        "colab": {
          "base_uri": "https://localhost:8080/"
        },
        "id": "n7EwpxO5SRWU",
        "outputId": "2fcea572-ff8e-4131-dcf6-803e56fa19c8"
      },
      "source": [
        "from google.colab import drive\n",
        "drive.mount('/content/drive')"
      ],
      "execution_count": null,
      "outputs": [
        {
          "output_type": "stream",
          "text": [
            "Mounted at /content/drive\n"
          ],
          "name": "stdout"
        }
      ]
    },
    {
      "cell_type": "markdown",
      "metadata": {
        "id": "qxl-BlCtYezs"
      },
      "source": [
        "# Imports/Helper Functions"
      ]
    },
    {
      "cell_type": "markdown",
      "metadata": {
        "id": "pAKxrXtBKBHA"
      },
      "source": [
        "15.128  - UV visible albedo for direct radiation - aluvp \\\\\n",
        "16.128  - UV visible albedo for diffuse radiation - aluvd \\\\\n",
        "17.128  - Near IR albedo for direct radiation - alnip \\\\\n",
        "18.128  - Near IR albedo for diffuse radiation - alnid \\\\\n",
        "26.128  - Lake cover (new at cycle 41r1) - cl \\\\\n",
        "27.128  - Low vegetation cover - cvl \\\\\n",
        "28.128  - High vegetation cover - cvh \\\\\n",
        "43.128  - Soil type - slt \\\\\n",
        "74.128  - Standard deviation of filtered subgrid orography - sdfor \\\\\n",
        "129.128 - Geopotential (at the surface orograpphy *g) - z \\\\\n",
        "134.128 - Surface pressure - sp \\\\\n",
        "141.128 - Snow depth (used also for glaciers =10) - sd \\\\\n",
        "160.128 - Standard deviation of orography - sdor \\\\\n",
        "161.128 - Anisotropy of sub-gridscale orography - isor \\\\\n",
        "162.128 - Angle of sub-gridscale orography - anor \\\\\n",
        "163.128 - Slope of sub-gridscale orography - slor \\\\\n",
        "172.128 - Land-sea mask - lsm \\\\\n",
        "228.128 - Total precipitation - tp \\\\\n",
        "243.128 - Forecast albedo - fal \\\\\n",
        "\n",
        "7.228 - Lake depth  \\\\\n",
        "\n",
        "35.235  - Mean surface downward short-wave radiation flux \\\\\n",
        "36.235  - Mean surface downward long-wave radiation flux \\\\\n",
        "\n",
        "128.254 - 2m temperature \\\\\n",
        "129.254 - 2m dewpoint temperature \\\\\n",
        "130.254 - 10m u-component of wind \\\\\n",
        "131.254 - 10m v-component of wind \\\\\n"
      ]
    },
    {
      "cell_type": "code",
      "metadata": {
        "id": "9x3dS4yrEK7t"
      },
      "source": [
        "import os\n",
        "import numpy as np\n",
        "import pandas as pd\n",
        "import matplotlib.pyplot as plt\n",
        "\n",
        "from sklearn.linear_model import LinearRegression\n",
        "from sklearn.tree import DecisionTreeRegressor\n",
        "from sklearn.metrics import mean_squared_error\n",
        "from sklearn.ensemble import RandomForestRegressor\n",
        "from sklearn.preprocessing import MinMaxScaler\n",
        "from sklearn.neural_network import MLPRegressor\n",
        "\n",
        "from xgboost import XGBRegressor"
      ],
      "execution_count": null,
      "outputs": []
    },
    {
      "cell_type": "code",
      "metadata": {
        "id": "aOqjPiNBI48a"
      },
      "source": [
        "def get_plot(lst_final_df, loc, year, month, pred_cols=['pred_lr','pred_dt','pred_rf', 'pred_xgb', 'pred_nn'], gt='LST_Day_1km_Max_mean'):\n",
        "  if month == '02':\n",
        "    month_name = 'Feb'\n",
        "  else:\n",
        "    month_name = 'Aug'\n",
        "\n",
        "  df = lst_final_df[lst_final_df['Year'] == year][lst_final_df['Month'] == month][lst_final_df['Location'] == loc]\n",
        "  dates = df['Day'].apply(lambda x : str(x))\n",
        "\n",
        "  plt.figure(figsize=(15, 10))\n",
        "\n",
        "  color = [\"#E69F00\", \"#56B4E9\", \"#009E73\", \"#F0E442\", \"#0072B2\", \"#D55E00\", \"#CC79A7\"]\n",
        "  color_cnt = 0\n",
        "  \n",
        "  for i, col in enumerate(pred_cols): \n",
        "    plt.plot(dates, df[col], c=color[i], linestyle='--', marker='o', label=col)\n",
        "  plt.scatter(dates, df[gt], c='k', marker='o', zorder=20, label=gt)\n",
        "  # if era5: \n",
        "  #   plt.scatter(dates, df[era5], c='r', marker='^', zorder=20, label=era5)\n",
        "\n",
        "  plt.xlabel('Date of the month')\n",
        "  plt.ylabel('Temperature (in K)')\n",
        "  plt.legend()\n",
        "  plt.title(f'MODIS LST Daily vs. Predicted Skin Temperature ({loc}, {month_name} {year})')\n",
        "\n",
        "  plt.grid(zorder=0)\n",
        "  plt.show()"
      ],
      "execution_count": null,
      "outputs": []
    },
    {
      "cell_type": "markdown",
      "metadata": {
        "id": "dVQXDhNFS01D"
      },
      "source": [
        "# Aggregating data of different years/months"
      ]
    },
    {
      "cell_type": "code",
      "metadata": {
        "id": "SVnMZa8hS5y2"
      },
      "source": [
        "src_feb = \"/content/drive/MyDrive/ESOWC/feb/csvs/\"\n",
        "src_aug = \"/content/drive/MyDrive/ESOWC/aug/csvs/\"\n",
        "\n",
        "csv_files_feb = os.listdir(src_feb)\n",
        "csv_files_aug = os.listdir(src_aug)"
      ],
      "execution_count": null,
      "outputs": []
    },
    {
      "cell_type": "code",
      "metadata": {
        "colab": {
          "base_uri": "https://localhost:8080/",
          "height": 309
        },
        "id": "cCo_W7xmTVe-",
        "outputId": "63baec68-49a0-4677-dda2-c34cc4c03a47"
      },
      "source": [
        "# load one month file into memory for sanity check \n",
        "df = pd.read_csv(os.path.join(src_feb, \"Feb_2000.csv\"))\n",
        "df.head()"
      ],
      "execution_count": null,
      "outputs": [
        {
          "output_type": "execute_result",
          "data": {
            "text/html": [
              "<div>\n",
              "<style scoped>\n",
              "    .dataframe tbody tr th:only-of-type {\n",
              "        vertical-align: middle;\n",
              "    }\n",
              "\n",
              "    .dataframe tbody tr th {\n",
              "        vertical-align: top;\n",
              "    }\n",
              "\n",
              "    .dataframe thead th {\n",
              "        text-align: right;\n",
              "    }\n",
              "</style>\n",
              "<table border=\"1\" class=\"dataframe\">\n",
              "  <thead>\n",
              "    <tr style=\"text-align: right;\">\n",
              "      <th></th>\n",
              "      <th>latitude</th>\n",
              "      <th>longitude</th>\n",
              "      <th>valid_time</th>\n",
              "      <th>ssrd</th>\n",
              "      <th>strd</th>\n",
              "      <th>tp</th>\n",
              "      <th>hybrid</th>\n",
              "      <th>t</th>\n",
              "      <th>u</th>\n",
              "      <th>v</th>\n",
              "      <th>depthBelowLandLayer</th>\n",
              "      <th>aluvp</th>\n",
              "      <th>aluvd</th>\n",
              "      <th>alnip</th>\n",
              "      <th>alnid</th>\n",
              "      <th>cl</th>\n",
              "      <th>cvl</th>\n",
              "      <th>cvh</th>\n",
              "      <th>istl1</th>\n",
              "      <th>slt</th>\n",
              "      <th>sdfor</th>\n",
              "      <th>z</th>\n",
              "      <th>sp</th>\n",
              "      <th>sd</th>\n",
              "      <th>sdor</th>\n",
              "      <th>isor</th>\n",
              "      <th>anor</th>\n",
              "      <th>slor</th>\n",
              "      <th>t2m</th>\n",
              "      <th>d2m</th>\n",
              "      <th>lsm</th>\n",
              "      <th>fal</th>\n",
              "    </tr>\n",
              "  </thead>\n",
              "  <tbody>\n",
              "    <tr>\n",
              "      <th>0</th>\n",
              "      <td>75.0</td>\n",
              "      <td>-15.0</td>\n",
              "      <td>2000-02-01 12:00:00</td>\n",
              "      <td>0.0</td>\n",
              "      <td>509637.7</td>\n",
              "      <td>2.145767e-06</td>\n",
              "      <td>137.0</td>\n",
              "      <td>247.18149</td>\n",
              "      <td>2.842760</td>\n",
              "      <td>-8.513624</td>\n",
              "      <td>0.0</td>\n",
              "      <td>0.059999</td>\n",
              "      <td>0.060013</td>\n",
              "      <td>0.059994</td>\n",
              "      <td>0.059995</td>\n",
              "      <td>0.0</td>\n",
              "      <td>0.0</td>\n",
              "      <td>0.0</td>\n",
              "      <td>248.36812</td>\n",
              "      <td>0.0</td>\n",
              "      <td>0.0</td>\n",
              "      <td>-20.019043</td>\n",
              "      <td>101049.875</td>\n",
              "      <td>0.0</td>\n",
              "      <td>0.0</td>\n",
              "      <td>0.0</td>\n",
              "      <td>0.785398</td>\n",
              "      <td>0.0001</td>\n",
              "      <td>249.28589</td>\n",
              "      <td>246.61194</td>\n",
              "      <td>0.0</td>\n",
              "      <td>0.697397</td>\n",
              "    </tr>\n",
              "    <tr>\n",
              "      <th>1</th>\n",
              "      <td>75.0</td>\n",
              "      <td>-15.0</td>\n",
              "      <td>2000-02-02 12:00:00</td>\n",
              "      <td>0.0</td>\n",
              "      <td>587736.6</td>\n",
              "      <td>2.264976e-06</td>\n",
              "      <td>137.0</td>\n",
              "      <td>249.03334</td>\n",
              "      <td>3.646779</td>\n",
              "      <td>-2.670753</td>\n",
              "      <td>0.0</td>\n",
              "      <td>0.059992</td>\n",
              "      <td>0.060010</td>\n",
              "      <td>0.059994</td>\n",
              "      <td>0.059995</td>\n",
              "      <td>0.0</td>\n",
              "      <td>0.0</td>\n",
              "      <td>0.0</td>\n",
              "      <td>248.13177</td>\n",
              "      <td>0.0</td>\n",
              "      <td>0.0</td>\n",
              "      <td>-20.019043</td>\n",
              "      <td>101024.560</td>\n",
              "      <td>0.0</td>\n",
              "      <td>0.0</td>\n",
              "      <td>0.0</td>\n",
              "      <td>0.785398</td>\n",
              "      <td>0.0001</td>\n",
              "      <td>248.94292</td>\n",
              "      <td>246.28383</td>\n",
              "      <td>0.0</td>\n",
              "      <td>0.704150</td>\n",
              "    </tr>\n",
              "    <tr>\n",
              "      <th>2</th>\n",
              "      <td>75.0</td>\n",
              "      <td>-15.0</td>\n",
              "      <td>2000-02-03 12:00:00</td>\n",
              "      <td>0.0</td>\n",
              "      <td>599212.0</td>\n",
              "      <td>3.576279e-06</td>\n",
              "      <td>137.0</td>\n",
              "      <td>249.73878</td>\n",
              "      <td>4.094452</td>\n",
              "      <td>-1.716292</td>\n",
              "      <td>0.0</td>\n",
              "      <td>0.059995</td>\n",
              "      <td>0.059999</td>\n",
              "      <td>0.059994</td>\n",
              "      <td>0.059995</td>\n",
              "      <td>0.0</td>\n",
              "      <td>0.0</td>\n",
              "      <td>0.0</td>\n",
              "      <td>247.82341</td>\n",
              "      <td>0.0</td>\n",
              "      <td>0.0</td>\n",
              "      <td>-20.019043</td>\n",
              "      <td>99424.625</td>\n",
              "      <td>0.0</td>\n",
              "      <td>0.0</td>\n",
              "      <td>0.0</td>\n",
              "      <td>0.785398</td>\n",
              "      <td>0.0001</td>\n",
              "      <td>248.83267</td>\n",
              "      <td>246.31440</td>\n",
              "      <td>0.0</td>\n",
              "      <td>0.709857</td>\n",
              "    </tr>\n",
              "    <tr>\n",
              "      <th>3</th>\n",
              "      <td>75.0</td>\n",
              "      <td>-15.0</td>\n",
              "      <td>2000-02-04 12:00:00</td>\n",
              "      <td>0.0</td>\n",
              "      <td>604780.8</td>\n",
              "      <td>9.536743e-07</td>\n",
              "      <td>137.0</td>\n",
              "      <td>252.08395</td>\n",
              "      <td>0.872898</td>\n",
              "      <td>-4.212233</td>\n",
              "      <td>0.0</td>\n",
              "      <td>0.059997</td>\n",
              "      <td>0.060004</td>\n",
              "      <td>0.059994</td>\n",
              "      <td>0.059995</td>\n",
              "      <td>0.0</td>\n",
              "      <td>0.0</td>\n",
              "      <td>0.0</td>\n",
              "      <td>249.67134</td>\n",
              "      <td>0.0</td>\n",
              "      <td>0.0</td>\n",
              "      <td>-20.019043</td>\n",
              "      <td>100198.500</td>\n",
              "      <td>0.0</td>\n",
              "      <td>0.0</td>\n",
              "      <td>0.0</td>\n",
              "      <td>0.785398</td>\n",
              "      <td>0.0001</td>\n",
              "      <td>251.37527</td>\n",
              "      <td>249.13538</td>\n",
              "      <td>0.0</td>\n",
              "      <td>0.716862</td>\n",
              "    </tr>\n",
              "    <tr>\n",
              "      <th>4</th>\n",
              "      <td>75.0</td>\n",
              "      <td>-15.0</td>\n",
              "      <td>2000-02-05 12:00:00</td>\n",
              "      <td>0.0</td>\n",
              "      <td>828090.4</td>\n",
              "      <td>8.118153e-05</td>\n",
              "      <td>137.0</td>\n",
              "      <td>255.00777</td>\n",
              "      <td>0.305675</td>\n",
              "      <td>-4.120874</td>\n",
              "      <td>0.0</td>\n",
              "      <td>0.059991</td>\n",
              "      <td>0.060009</td>\n",
              "      <td>0.059994</td>\n",
              "      <td>0.059995</td>\n",
              "      <td>0.0</td>\n",
              "      <td>0.0</td>\n",
              "      <td>0.0</td>\n",
              "      <td>251.80630</td>\n",
              "      <td>0.0</td>\n",
              "      <td>0.0</td>\n",
              "      <td>-20.019043</td>\n",
              "      <td>99304.690</td>\n",
              "      <td>0.0</td>\n",
              "      <td>0.0</td>\n",
              "      <td>0.0</td>\n",
              "      <td>0.785398</td>\n",
              "      <td>0.0001</td>\n",
              "      <td>254.45789</td>\n",
              "      <td>252.46552</td>\n",
              "      <td>0.0</td>\n",
              "      <td>0.709720</td>\n",
              "    </tr>\n",
              "  </tbody>\n",
              "</table>\n",
              "</div>"
            ],
            "text/plain": [
              "   latitude  longitude           valid_time  ...        d2m  lsm       fal\n",
              "0      75.0      -15.0  2000-02-01 12:00:00  ...  246.61194  0.0  0.697397\n",
              "1      75.0      -15.0  2000-02-02 12:00:00  ...  246.28383  0.0  0.704150\n",
              "2      75.0      -15.0  2000-02-03 12:00:00  ...  246.31440  0.0  0.709857\n",
              "3      75.0      -15.0  2000-02-04 12:00:00  ...  249.13538  0.0  0.716862\n",
              "4      75.0      -15.0  2000-02-05 12:00:00  ...  252.46552  0.0  0.709720\n",
              "\n",
              "[5 rows x 32 columns]"
            ]
          },
          "metadata": {
            "tags": []
          },
          "execution_count": 7
        }
      ]
    },
    {
      "cell_type": "code",
      "metadata": {
        "colab": {
          "base_uri": "https://localhost:8080/"
        },
        "id": "lCDdZqh4ZU_N",
        "outputId": "9c474233-4419-46c9-a1bb-fd21879bb291"
      },
      "source": [
        "# attempting to merge all the years files for different months \n",
        "\n",
        "##############################################################\n",
        "# Crashes after processing Aug_2004.csv                      #\n",
        "##############################################################\n",
        "\n",
        "\n",
        "\n",
        "# Aug\n",
        "df_lists = []\n",
        "\n",
        "for f in csv_files_aug: \n",
        "  print(\"Filename: \", f)\n",
        "  df = pd.read_csv(os.path.join(src_aug, f))\n",
        "  df_lists.append(df)\n",
        "\n",
        "result = pd.concat(df_lists, ignore_index=True)\n",
        "\n",
        "#save the resulting dataframe\n",
        "result.to_csv(\"./drive/MyDrive/ESOWC/aug/aug_data.csv\")\n",
        "\n",
        "# Feb \n",
        "df_lists = []\n",
        "\n",
        "for f in csv_files_feb: \n",
        "  print(\"Filename: \",f)\n",
        "  df = pd.read_csv(os.path.join(src_aug, f))\n",
        "  df_lists.append(df)\n",
        "\n",
        "result = pd.concat(df_lists, ignore_index=True)\n",
        "result.to_csv(\"./drive/MyDrive/ESOWC/feb/feb_data.csv\")"
      ],
      "execution_count": null,
      "outputs": [
        {
          "output_type": "stream",
          "text": [
            "Filename:  Aug_2000.csv\n",
            "Filename:  Aug_2001.csv\n",
            "Filename:  Aug_2002.csv\n",
            "Filename:  Aug_2003.csv\n",
            "Filename:  Aug_2004.csv\n"
          ],
          "name": "stdout"
        }
      ]
    },
    {
      "cell_type": "markdown",
      "metadata": {
        "id": "xengdO1kaHbV"
      },
      "source": [
        "# Merging the input and output files"
      ]
    },
    {
      "cell_type": "code",
      "metadata": {
        "id": "aFUTeO_CaDnm"
      },
      "source": [
        "result_feb = pd.read_csv(\"./drive/MyDrive/ESOWC/feb/feb_data.csv\")\n",
        "# result_feb = result_feb.drop(columns=['Unnamed: 0'])\n",
        "# result_feb = result_feb.rename(columns={'city': 'Location', 'date': 'datetime'})\n",
        "\n",
        "result_aug = pd.read_csv(\"./drive/MyDrive/ESOWC/aug/aug_data.csv\")\n",
        "# result_aug = result_aug.drop(columns=['Unnamed: 0'])\n",
        "# result_aug = result_aug.rename(columns={'city': 'Location', 'date': 'datetime'})\n",
        "\n",
        "result = pd.concat([result_feb, result_aug],  ignore_index=True)\n",
        "result.head()"
      ],
      "execution_count": null,
      "outputs": []
    }
  ]
}